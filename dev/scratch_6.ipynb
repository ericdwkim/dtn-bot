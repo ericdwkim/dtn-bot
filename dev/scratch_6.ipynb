{
 "cells": [
  {
   "cell_type": "code",
   "execution_count": 96,
   "metadata": {
    "collapsed": true,
    "ExecuteTime": {
     "end_time": "2023-06-24T00:09:25.280082Z",
     "start_time": "2023-06-24T00:09:25.277238Z"
    }
   },
   "outputs": [],
   "source": [
    "import pikepdf\n",
    "import io\n",
    "import pdfplumber\n",
    "import re\n",
    "import datetime\n",
    "import os\n",
    "from utils.post_processing import merge_rename_and_summate"
   ]
  },
  {
   "cell_type": "code",
   "execution_count": 97,
   "outputs": [],
   "source": [
    "file_path = '/Users/ekim/workspace/txb/docs/ccm_full.pdf'\n",
    "\n",
    "company_name_to_search_keyword_mapping_credit_cards = {\n",
    "    'VALERO': ['-NET CREDIT 51000', 'CCM-\\d+'],\n",
    "    'CONCORD FIRST DATA RETRIEVAL': ['MARKETER TOTAL', 'CMB-\\d+'],\n",
    "    'EXXONMOBIL': ['TOTAL DISTRIBUTOR', 'CCM-\\d+']\n",
    "\n",
    "\n",
    "}\n",
    "\n",
    "\n",
    "company_name_to_subdir_full_path_mapping_credit_cards = {\n",
    "\n",
    "    'VALERO': r'/Users/ekim/workspace/txb/mock/K-Drive/DTN Reports/Credit Cards/Valero (10006)',\n",
    "\n",
    "    'CONCORD FIRST DATA RETRIEVAL': r'/Users/ekim/workspace/txb/mock/K-Drive/DTN Reports/Credit Cards/First Data',\n",
    "\n",
    "    'EXXONMOBIL': r'/Users/ekim/workspace/txb/mock/K-Drive/DTN Reports/Credit Cards/EXXONMOBIL (10005)/temp'\n",
    "\n",
    "}\n"
   ],
   "metadata": {
    "collapsed": false,
    "ExecuteTime": {
     "end_time": "2023-06-24T00:09:25.804097Z",
     "start_time": "2023-06-24T00:09:25.798943Z"
    }
   }
  },
  {
   "cell_type": "code",
   "execution_count": 98,
   "outputs": [],
   "source": [
    "def create_and_save_pdf(pages, new_file_name, destination_dir):\n",
    "    try:\n",
    "        new_pdf = pikepdf.Pdf.new()\n",
    "        new_pdf.pages.extend(pages)\n",
    "        dest_dir_with_new_file_name = os.path.join(destination_dir, new_file_name)\n",
    "        new_pdf.save(dest_dir_with_new_file_name)\n",
    "        return True  # Return True if the file was saved successfully\n",
    "    except Exception as e:\n",
    "        print(f\"Error occurred while creating and saving PDF: {str(e)}\")\n",
    "        return False  # Return False if an error occurred\n",
    "\n",
    "def get_new_file_name_cc(regex_num, today, total_credit_amt):\n",
    "    new_file_name = f'{regex_num}-{today}-{total_credit_amt}.pdf'\n",
    "    # print(f'new_file_name: {new_file_name}')\n",
    "    return new_file_name\n",
    "\n",
    "def extract_text_from_pdf_page(page):\n",
    "    # Create a BytesIO buffer\n",
    "    pdf_stream = io.BytesIO()\n",
    "\n",
    "    # Write the page to the buffer\n",
    "    with pikepdf.Pdf.new() as pdf:\n",
    "        pdf.pages.append(page)\n",
    "        pdf.save(pdf_stream)\n",
    "\n",
    "    # Use pdfplumber to read the page from the buffer\n",
    "    pdf_stream.seek(0)\n",
    "    with pdfplumber.open(pdf_stream) as pdf:\n",
    "        page = pdf.pages[0]\n",
    "        text = page.extract_text()\n",
    "\n",
    "    return text\n"
   ],
   "metadata": {
    "collapsed": false,
    "ExecuteTime": {
     "end_time": "2023-06-24T00:09:30.605713Z",
     "start_time": "2023-06-24T00:09:30.602633Z"
    }
   }
  },
  {
   "cell_type": "code",
   "execution_count": 5,
   "outputs": [],
   "source": [
    "def extract_info_from_text_cc(current_page_text, target_keywords):\n",
    "    \"\"\"Extract the specific information from a page\"\"\"\n",
    "\n",
    "    # Extract regex pattern (CCM, CMB, RTV, CBK)\n",
    "    regex_num_pattern = target_keywords[1]\n",
    "    regex_num_matches = re.findall(regex_num_pattern, current_page_text)\n",
    "    print(f'\\nUsing regex_num_pattern: {regex_num_pattern}\\nGetting regex_num_matches: {regex_num_matches}')\n",
    "\n",
    "    if regex_num_matches:\n",
    "        regex_num = regex_num_matches[0]\n",
    "    else:\n",
    "        print(f'No matches for regex: {regex_num_pattern} in\\n {current_page_text}')\n",
    "        regex_num = None\n",
    "\n",
    "\n",
    "    # Extract total_target_value\n",
    "    # total_credit_keyword = target_keywords[0]\n",
    "    total_amount_matches = re.findall(r'([\\d,]+\\.\\d+)', current_page_text)\n",
    "    # print(f'\\nUsing total_credit_keyword: \"{total_credit_keyword}\"\\nGetting total_amount_matches: {total_amount_matches}\\n')\n",
    "    if total_amount_matches:\n",
    "        total_amount = total_amount_matches[-1]\n",
    "    else:\n",
    "        # print(f\"No matches for regular expression using keyword: {total_credit_keyword} in text:\\n*****************************************************\\n {current_page_text}\\n*****************************************************\\n\")\n",
    "        total_amount = None\n",
    "\n",
    "    today = datetime.date.today().strftime('%m-%d-%y')\n",
    "\n",
    "    if total_amount is None:\n",
    "        return today, None\n",
    "\n",
    "    return regex_num, today, total_amount\n",
    "\n"
   ],
   "metadata": {
    "collapsed": false,
    "ExecuteTime": {
     "end_time": "2023-06-23T21:25:19.696731Z",
     "start_time": "2023-06-23T21:25:19.692600Z"
    }
   }
  },
  {
   "cell_type": "code",
   "execution_count": 34,
   "outputs": [],
   "source": [
    "def process_page_cc(pdf, page_num, company_name_to_search_keyword_mapping, company_name_to_company_subdir_mapping):\n",
    "    for company_name, keywords in company_name_to_search_keyword_mapping.items():\n",
    "\n",
    "\n",
    "        current_page_text = extract_text_from_pdf_page(pdf.pages[page_num])\n",
    "        # print(f'Processing page: {page_num}')\n",
    "        # print(f'\\n*****************************\\n{current_page_text}\\n*****************************\\n')\n",
    "\n",
    "        # Handles CCM, CMB multi page docs\n",
    "        if (re.search(r'CCM-\\d+', current_page_text) or re.search(r'CMB-\\d+', current_page_text)) and company_name in current_page_text and 'END MSG' not in current_page_text:\n",
    "            # print(f'page_num: {page_num}')\n",
    "            current_pages =[]\n",
    "            current_page_texts = []\n",
    "\n",
    "\n",
    "            while 'END MSG' not in current_page_text and page_num < len(pdf.pages):\n",
    "                current_pages.append(pdf.pages[page_num])\n",
    "                current_page_text = extract_text_from_pdf_page(pdf.pages[page_num])\n",
    "                current_page_texts.append(current_page_text)\n",
    "\n",
    "                page_num += 1\n",
    "\n",
    "                if page_num >= len(pdf.pages):\n",
    "                    break\n",
    "\n",
    "            current_page_text = \"\".join(current_page_texts)\n",
    "\n",
    "            regex_num, today, total_amount = extract_info_from_text_cc(current_page_text, keywords)\n",
    "            new_file_name = get_new_file_name_cc(regex_num, today, total_amount)\n",
    "            print(f'new_file_name: {new_file_name}')\n",
    "            destination_dir = company_name_to_company_subdir_mapping[company_name]\n",
    "            multi_page_pdf_saved = create_and_save_pdf(current_pages, new_file_name, destination_dir)\n",
    "\n",
    "            # POST PROCESSING - EXXON CCM 'TOTAL DISTRIBUTOR'\n",
    "            if multi_page_pdf_saved:\n",
    "                merge_rename_and_summate(destination_dir)\n",
    "            else:\n",
    "                print(f'Could not post process')\n",
    "\n",
    "\n",
    "\n",
    "\n",
    "        # Handle single page CCM docs\n",
    "        elif re.search(r'CCM-\\d+', current_page_text) and company_name in current_page_text and 'END MSG' in current_page_text:\n",
    "            current_pages = [pdf.pages[page_num]]\n",
    "            regex_num, today, total_amount = extract_info_from_text_cc(current_page_text, keywords)\n",
    "            new_file_name = get_new_file_name_cc(regex_num, today, total_amount)\n",
    "            # print(f'new_file_name: {new_file_name}')\n",
    "\n",
    "            destination_dir = company_name_to_company_subdir_mapping[company_name]\n",
    "            # print(f'destination_dir: {destination_dir}')\n",
    "\n",
    "            create_and_save_pdf(current_pages, new_file_name, destination_dir)\n",
    "            page_num += 1\n",
    "\n",
    "            if page_num >= len(pdf.pages):\n",
    "                break\n",
    "\n",
    "    return page_num"
   ],
   "metadata": {
    "collapsed": false,
    "ExecuteTime": {
     "end_time": "2023-06-23T21:44:48.763453Z",
     "start_time": "2023-06-23T21:44:48.753906Z"
    }
   }
  },
  {
   "cell_type": "code",
   "execution_count": 88,
   "outputs": [],
   "source": [
    "def process_pdf_cc(filepath,  company_name_to_company_subdir_mapping,company_name_to_search_keyword_mapping):\n",
    "    try:\n",
    "\n",
    "        # Read original PDF from dls dir\n",
    "        print(f'Processing file: {filepath}')\n",
    "        with pikepdf.open(filepath) as pdf:\n",
    "            page_num = 0  # Initialize page_num\n",
    "            while page_num < len(pdf.pages):\n",
    "                # Process pages and update the page number at original PDF (macro) level\n",
    "                new_page_num = process_page_cc(pdf, page_num, company_name_to_search_keyword_mapping, company_name_to_company_subdir_mapping)\n",
    "\n",
    "                # if process_page has not incremented\n",
    "                # prevents one off issue\n",
    "                if new_page_num == page_num:\n",
    "                    page_num += 1\n",
    "                else:\n",
    "                    page_num = new_page_num\n",
    "\n",
    "            # If all pages processed without errors, return True\n",
    "            return True\n",
    "    except Exception as e:\n",
    "        # If any error occurred, print it and return False\n",
    "        print(f'An unexpected error occurred: {str(e)}')\n",
    "        return False"
   ],
   "metadata": {
    "collapsed": false,
    "ExecuteTime": {
     "end_time": "2023-06-23T23:04:22.565367Z",
     "start_time": "2023-06-23T23:04:22.529261Z"
    }
   }
  },
  {
   "cell_type": "code",
   "execution_count": null,
   "outputs": [],
   "source": [
    "results = process_pdf_cc(file_path, company_name_to_subdir_full_path_mapping_credit_cards, company_name_to_search_keyword_mapping_credit_cards)\n",
    "if results:\n",
    "    print('Finished')\n"
   ],
   "metadata": {
    "collapsed": false
   }
  }
 ],
 "metadata": {
  "kernelspec": {
   "display_name": "Python 3",
   "language": "python",
   "name": "python3"
  },
  "language_info": {
   "codemirror_mode": {
    "name": "ipython",
    "version": 2
   },
   "file_extension": ".py",
   "mimetype": "text/x-python",
   "name": "python",
   "nbconvert_exporter": "python",
   "pygments_lexer": "ipython2",
   "version": "2.7.6"
  }
 },
 "nbformat": 4,
 "nbformat_minor": 0
}
