{
 "cells": [
  {
   "cell_type": "code",
   "execution_count": 37,
   "outputs": [],
   "source": [
    "import pikepdf\n",
    "import io\n",
    "import pdfplumber\n",
    "import re\n",
    "import datetime\n",
    "import os"
   ],
   "metadata": {
    "collapsed": false,
    "ExecuteTime": {
     "end_time": "2023-06-22T23:43:42.402919Z",
     "start_time": "2023-06-22T23:43:42.395789Z"
    }
   }
  },
  {
   "cell_type": "code",
   "execution_count": 50,
   "metadata": {
    "collapsed": true,
    "ExecuteTime": {
     "end_time": "2023-06-22T23:59:55.094493Z",
     "start_time": "2023-06-22T23:59:55.084551Z"
    }
   },
   "outputs": [],
   "source": [
    "file_path = '/Users/ekim/workspace/txb/docs/ccm_full.pdf'\n",
    "file_path_val_ccm = '/Users/ekim/workspace/txb/docs/val_ccm.pdf'"
   ]
  },
  {
   "cell_type": "code",
   "execution_count": 39,
   "outputs": [],
   "source": [
    "company_name_to_search_keyword_mapping_valero = {\n",
    "    'VALERO': ['-NET CREDIT 51000', 'CCM-\\d+']\n",
    "\n",
    "}\n",
    "\n",
    "\n",
    "company_name_to_subdir_full_path_mapping_valero = {\n",
    "\n",
    "    'VALERO': r'/Users/ekim/workspace/txb/mock/K-Drive/DTN Reports/Credit Cards/Valero (10006)'\n",
    "\n",
    "}"
   ],
   "metadata": {
    "collapsed": false,
    "ExecuteTime": {
     "end_time": "2023-06-22T23:44:45.786210Z",
     "start_time": "2023-06-22T23:44:45.778756Z"
    }
   }
  },
  {
   "cell_type": "code",
   "execution_count": 69,
   "outputs": [],
   "source": [
    "def create_and_save_pdf(pages, new_file_name, destination_dir):\n",
    "    new_pdf = pikepdf.Pdf.new()\n",
    "    new_pdf.pages.extend(pages)\n",
    "    dest_dir_with_new_file_name = os.path.join(destination_dir, new_file_name)\n",
    "    new_pdf.save(dest_dir_with_new_file_name)\n",
    "\n",
    "\n",
    "def get_new_file_name_cc(today, total_credit_amt):\n",
    "    new_file_name = f'{today}-{total_credit_amt}.pdf'\n",
    "    print(f'new_file_name: {new_file_name}')\n",
    "    return new_file_name\n",
    "\n",
    "def extract_text_from_pdf_page(page):\n",
    "    # Create a BytesIO buffer\n",
    "    pdf_stream = io.BytesIO()\n",
    "\n",
    "    # Write the page to the buffer\n",
    "    with pikepdf.Pdf.new() as pdf:\n",
    "        pdf.pages.append(page)\n",
    "        pdf.save(pdf_stream)\n",
    "\n",
    "    # Use pdfplumber to read the page from the buffer\n",
    "    pdf_stream.seek(0)\n",
    "    with pdfplumber.open(pdf_stream) as pdf:\n",
    "        page = pdf.pages[0]\n",
    "        text = page.extract_text()\n",
    "\n",
    "    return text\n",
    "\n",
    "def extract_info_from_text_cc(current_page_text, target_keywords):\n",
    "    \"\"\"Extract the specific information from a page\"\"\"\n",
    "\n",
    "    # Extract total_credit\n",
    "    total_credit_keyword = target_keywords[0]\n",
    "    total_credit_matches = re.findall(r'([\\d,]+\\.\\d+)', current_page_text)\n",
    "    print(f'\\nUsing total_credit_keyword: \"{total_credit_keyword}\"\\nGetting total_credit_matches: {total_credit_matches}\\n')\n",
    "    if total_credit_matches:\n",
    "        total_credit_amt = total_credit_matches[-1] # TODO: may only apply for VALERO and NOT exxon CCMs\n",
    "    else:\n",
    "        print(f\"No matches for regular expression using keyword: {total_credit_keyword} in text:\\n*****************************************************\\n {current_page_text}\\n*****************************************************\\n\")\n",
    "        total_credit_amt = None\n",
    "\n",
    "    today = datetime.date.today().strftime('%m-%d-%y')\n",
    "\n",
    "    if total_credit_amt is None:\n",
    "        return today, None\n",
    "\n",
    "    return today, total_credit_amt\n",
    "\n",
    "\n",
    "def process_page_cc(pdf, page_num, company_name_to_search_keyword_mapping, company_name_to_company_subdir_mapping):\n",
    "    for company_name, keywords in company_name_to_search_keyword_mapping.items():\n",
    "        current_page_text = extract_text_from_pdf_page(pdf.pages[page_num])\n",
    "        print(f'\\n*****************************\\n{current_page_text}\\n*****************************\\n')\n",
    "\n",
    "        # Handle single page CCM VALERO docs\n",
    "        if re.search(r'CCM-\\d+', current_page_text) and 'VALERO' in current_page_text and 'END MSG' in current_page_text:\n",
    "            current_pages = [pdf.pages[page_num]]\n",
    "            today, net_credit_amt = extract_info_from_text_cc(current_page_text, keywords)\n",
    "\n",
    "            new_file_name = get_new_file_name_cc(today, net_credit_amt)\n",
    "            destination_dir = company_name_to_company_subdir_mapping[company_name]\n",
    "            create_and_save_pdf(current_pages, new_file_name, destination_dir)\n",
    "\n",
    "            page_num += 1\n",
    "\n",
    "            if page_num >= len(pdf.pages):\n",
    "                break\n",
    "\n",
    "        # Only multipage CCM VALERO docs only\n",
    "        elif re.search(r'CCM-\\d+', current_page_text) and 'VALERO' in current_page_text and 'END MSG' not in current_page_text:\n",
    "            current_pages = []\n",
    "            current_page_texts = []\n",
    "\n",
    "            while 'END MSG' not in current_page_text and page_num < len(pdf.pages):\n",
    "                current_pages.append(pdf.pages[page_num])\n",
    "                current_page_text = extract_text_from_pdf_page(pdf.pages[page_num])\n",
    "                current_page_texts.append(current_page_text)\n",
    "                # Move cursor at multi-page (micro) level\n",
    "                page_num += 1\n",
    "\n",
    "                # If there aren't anymore pages, exit loop\n",
    "                if page_num >= len(pdf.pages):\n",
    "                    break\n",
    "\n",
    "            current_page_text = \"\".join(current_page_texts)\n",
    "            today, total_credit_amt = extract_info_from_text_cc(current_page_text, keywords)\n",
    "\n",
    "            new_file_name = get_new_file_name_cc(today, total_credit_amt)\n",
    "            destination_dir = company_name_to_company_subdir_mapping[company_name]\n",
    "\n",
    "            create_and_save_pdf(current_pages, new_file_name, destination_dir)\n",
    "\n",
    "    return page_num\n",
    "\n",
    "\n",
    "def process_pdf_cc(filepath,  company_name_to_company_subdir_mapping,company_name_to_search_keyword_mapping):\n",
    "    try:\n",
    "\n",
    "        # Read original PDF from dls dir\n",
    "        print(f'Processing file: {filepath}')\n",
    "        with pikepdf.open(filepath) as pdf:\n",
    "            print(len(pdf.pages))\n",
    "            page_num = 0  # Initialize page_num\n",
    "            while page_num < len(pdf.pages ):\n",
    "                # Process pages and update the page number at original PDF (macro) level\n",
    "                page_num = process_page_cc(pdf, page_num, company_name_to_search_keyword_mapping, company_name_to_company_subdir_mapping)\n",
    "                page_num += 1\n",
    "\n",
    "\n",
    "            # If all pages processed without errors, return True\n",
    "            return True\n",
    "    except Exception as e:\n",
    "        # If any error occurred, print it and return False\n",
    "        print(f'An unexpected error occurred: {str(e)}')\n",
    "        return False\n",
    "\n",
    "\n",
    "def process_pdf_cc2(filepath):\n",
    "    with pikepdf.open(filepath) as pdf:\n",
    "            print(len(pdf.pages))\n"
   ],
   "metadata": {
    "collapsed": false,
    "ExecuteTime": {
     "end_time": "2023-06-23T00:19:09.818938Z",
     "start_time": "2023-06-23T00:19:09.803627Z"
    }
   }
  },
  {
   "cell_type": "code",
   "execution_count": 71,
   "outputs": [],
   "source": [
    "# TESTING FULL DOWNLOAD PDF ON 6/22/23 FOR ALL \"Credit Card\" typed docs\n",
    "\n",
    "# results = process_pdf_cc(file_path, company_name_to_subdir_full_path_mapping_valero, company_name_to_search_keyword_mapping_valero)\n",
    "# if results:\n",
    "#     print('Finished')"
   ],
   "metadata": {
    "collapsed": false,
    "ExecuteTime": {
     "end_time": "2023-06-23T00:20:06.832236Z",
     "start_time": "2023-06-23T00:20:06.826859Z"
    }
   }
  },
  {
   "cell_type": "code",
   "execution_count": null,
   "outputs": [],
   "source": [
    "# TESTING CCM-3570 (VALERO CCM - -NET CREDIT 51000)\n",
    "\n",
    "results = process_pdf_cc(file_path_val_ccm, company_name_to_subdir_full_path_mapping_valero, company_name_to_search_keyword_mapping_valero)\n",
    "if results:\n",
    "    print('Finished')"
   ],
   "metadata": {
    "collapsed": false
   }
  },
  {
   "cell_type": "code",
   "execution_count": 77,
   "outputs": [
    {
     "name": "stdout",
     "output_type": "stream",
     "text": [
      "711847.24\n"
     ]
    }
   ],
   "source": [
    "# ccm_full.pdf sum of \"TOTAL DISTRIBUTOR\" for exxon calculation\n",
    "\n",
    "values = [\"411,947.66\", \"79,059.63\", \"22,191.38\", \"3,635.66\", \"188,388.66\", \"6,624.25\"]\n",
    "\n",
    "# Remove commas and convert to float\n",
    "numbers = [float(value.replace(\",\", \"\")) for value in values]\n",
    "\n",
    "# Sum all the numbers\n",
    "result = sum(numbers)\n",
    "\n",
    "# Print the result\n",
    "print(result)\n",
    "# 711847.24\n"
   ],
   "metadata": {
    "collapsed": false,
    "ExecuteTime": {
     "end_time": "2023-06-23T00:27:59.196992Z",
     "start_time": "2023-06-23T00:27:59.192191Z"
    }
   }
  },
  {
   "cell_type": "code",
   "execution_count": null,
   "outputs": [],
   "source": [],
   "metadata": {
    "collapsed": false
   }
  }
 ],
 "metadata": {
  "kernelspec": {
   "display_name": "Python 3",
   "language": "python",
   "name": "python3"
  },
  "language_info": {
   "codemirror_mode": {
    "name": "ipython",
    "version": 2
   },
   "file_extension": ".py",
   "mimetype": "text/x-python",
   "name": "python",
   "nbconvert_exporter": "python",
   "pygments_lexer": "ipython2",
   "version": "2.7.6"
  }
 },
 "nbformat": 4,
 "nbformat_minor": 0
}
