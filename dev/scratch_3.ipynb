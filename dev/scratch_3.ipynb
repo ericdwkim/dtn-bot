{
 "cells": [
  {
   "cell_type": "code",
   "execution_count": 1,
   "metadata": {
    "collapsed": true,
    "ExecuteTime": {
     "end_time": "2023-07-02T17:35:16.731127Z",
     "start_time": "2023-07-02T17:35:16.705458Z"
    }
   },
   "outputs": [],
   "source": [
    "from utils.mappings_refactored import (regex_patterns, doc_type_abbrv_to_doc_type_subdir_map, company_id_to_company_subdir_map)\n",
    "# from utils.pdf_processor import PdfProcessor\n",
    "from utils.mappings_refactored import company_id_to_company_subdir_map"
   ]
  },
  {
   "cell_type": "code",
   "execution_count": 2,
   "outputs": [
    {
     "ename": "NameError",
     "evalue": "name 'PdfProcessor' is not defined",
     "output_type": "error",
     "traceback": [
      "\u001B[0;31m---------------------------------------------------------------------------\u001B[0m",
      "\u001B[0;31mNameError\u001B[0m                                 Traceback (most recent call last)",
      "Cell \u001B[0;32mIn[2], line 1\u001B[0m\n\u001B[0;32m----> 1\u001B[0m processor \u001B[38;5;241m=\u001B[39m \u001B[43mPdfProcessor\u001B[49m(\u001B[38;5;124m'\u001B[39m\u001B[38;5;124mEFT\u001B[39m\u001B[38;5;124m'\u001B[39m, \u001B[38;5;124m'\u001B[39m\u001B[38;5;124m10005\u001B[39m\u001B[38;5;124m'\u001B[39m, \u001B[38;5;124m'\u001B[39m\u001B[38;5;124m6900.00\u001B[39m\u001B[38;5;124m'\u001B[39m)\n\u001B[1;32m      3\u001B[0m processor\u001B[38;5;241m.\u001B[39mprocess_pdfs(regex_patterns, doc_type_abbrv_to_doc_type_subdir_map, company_id_to_company_subdir_map)\n",
      "\u001B[0;31mNameError\u001B[0m: name 'PdfProcessor' is not defined"
     ]
    }
   ],
   "source": [
    "processor = PdfProcessor('EFT', '10005', '6900.00')\n",
    "\n",
    "processor.process_pdfs(regex_patterns, doc_type_abbrv_to_doc_type_subdir_map, company_id_to_company_subdir_map)\n",
    "\n"
   ],
   "metadata": {
    "collapsed": false,
    "ExecuteTime": {
     "end_time": "2023-07-02T17:35:16.940133Z",
     "start_time": "2023-07-02T17:35:16.731632Z"
    }
   }
  },
  {
   "cell_type": "code",
   "execution_count": 7,
   "outputs": [],
   "source": [],
   "metadata": {
    "collapsed": false,
    "ExecuteTime": {
     "end_time": "2023-07-02T17:33:25.211100Z",
     "start_time": "2023-07-02T17:33:25.206244Z"
    }
   }
  }
 ],
 "metadata": {
  "kernelspec": {
   "display_name": "Python 3",
   "language": "python",
   "name": "python3"
  },
  "language_info": {
   "codemirror_mode": {
    "name": "ipython",
    "version": 2
   },
   "file_extension": ".py",
   "mimetype": "text/x-python",
   "name": "python",
   "nbconvert_exporter": "python",
   "pygments_lexer": "ipython2",
   "version": "2.7.6"
  }
 },
 "nbformat": 4,
 "nbformat_minor": 0
}
