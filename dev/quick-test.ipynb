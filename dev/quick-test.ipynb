{
 "cells": [
  {
   "cell_type": "code",
   "execution_count": 1,
   "outputs": [
    {
     "name": "stdout",
     "output_type": "stream",
     "text": [
      "/Users/ekim\n"
     ]
    }
   ],
   "source": [
    "import os\n",
    "home_dir = os.path.expanduser('~')\n",
    "# print(home_dir)\n",
    "dl_dir = r'/Users/ekim/Downloads'\n",
    "dest_dir = r'/Users/ekim/workspace/txb/mock/K-Drive/DTN Reports/Fuel Invoices/5-May'\n"
   ],
   "metadata": {
    "collapsed": false,
    "ExecuteTime": {
     "end_time": "2023-06-15T19:26:21.014934Z",
     "start_time": "2023-06-15T19:26:21.008934Z"
    }
   }
  },
  {
   "cell_type": "code",
   "execution_count": 3,
   "outputs": [],
   "source": [
    "import os\n",
    "import shutil\n",
    "import datetime\n",
    "\n",
    "def rename_and_move_pdf(file_name, source_dir, target_dir):\n",
    "    # Get today's date and format it as MM-DD-YY\n",
    "    today = datetime.date.today().strftime('%m-%d-%y')\n",
    "\n",
    "    # Find the downloaded PDF\n",
    "    for file in os.listdir(source_dir):\n",
    "        if file.endswith('.pdf') and file_name in file:  # Adjust this as needed to match your file\n",
    "            source_file = os.path.join(source_dir, file)\n",
    "            # Rename file\n",
    "            destination_file = os.path.join(target_dir, f'{today}.pdf')\n",
    "            # Move the file\n",
    "            shutil.move(source_file, destination_file)\n",
    "            break  # If you're only expecting one such file, you can break the loop after the first one found\n",
    "\n",
    "    # Error handling code would go here\n"
   ],
   "metadata": {
    "collapsed": false,
    "ExecuteTime": {
     "end_time": "2023-06-15T19:52:20.797882Z",
     "start_time": "2023-06-15T19:52:20.794351Z"
    }
   }
  },
  {
   "cell_type": "code",
   "execution_count": 4,
   "outputs": [],
   "source": [
    "# download_dir = r'C:/Users/cgonzales/Downloads'\n",
    "# destination_dir = r'K:/DTN Reports/Fuel Invoices/5-May'  # This would depend on how your drive is mounted\n",
    "\n",
    "file_name = 'messages' # downloaded file is defaulted to filename `messages.pdf`\n",
    "dl_dir = r'/Users/ekim/Downloads'\n",
    "dest_dir = r'/Users/ekim/workspace/txb/mock/K-Drive/DTN Reports/Fuel Invoices/5-May'\n",
    "\n",
    "rename_and_move_pdf('messages', dl_dir, dest_dir)"
   ],
   "metadata": {
    "collapsed": false,
    "ExecuteTime": {
     "end_time": "2023-06-15T19:57:59.847189Z",
     "start_time": "2023-06-15T19:57:57.578344Z"
    }
   }
  },
  {
   "cell_type": "code",
   "execution_count": null,
   "outputs": [],
   "source": [
    "# TEST - pdf_handler helper function for EFT / Draft Notices"
   ],
   "metadata": {
    "collapsed": false
   }
  },
  {
   "cell_type": "code",
   "execution_count": 11,
   "outputs": [],
   "source": [
    "import os\n",
    "import shutil\n",
    "import datetime\n",
    "import PyPDF2\n",
    "from pdfreader import PDFDocument"
   ],
   "metadata": {
    "collapsed": false,
    "ExecuteTime": {
     "end_time": "2023-06-17T00:55:24.311738Z",
     "start_time": "2023-06-17T00:55:24.177960Z"
    }
   }
  },
  {
   "cell_type": "code",
   "execution_count": null,
   "outputs": [],
   "source": [
    "def rename_and_move_eft(file_name, source_dir, target_dir):\n",
    "    today = datetime.date.today().strftime('%m-%d-%y')\n",
    "    for file in os.listdir(source_dir):\n",
    "        if file.endswith('.pdf') and file_name in file:\n",
    "            source_file = os.path.join(source_dir, file)\n",
    "\n",
    "            # Read the PDF file\n",
    "            with open(source_file, 'rb') as f:\n",
    "                reader = PyPDF2.PdfFileReader(f)\n",
    "\n",
    "                # Iterate through all the pages in the PDF\n",
    "                for i in range(reader.getNumPages()):\n",
    "                    page = reader.getPage(i)\n",
    "                    text = page.extract_text()\n",
    "\n",
    "                    # Check if the page contains the specific company name\n",
    "                    if 'CVR SUPPLY & TRADING, LLC' in text:\n",
    "                        # Extract the EFT number and the Total Draft Amount\n",
    "                        eft_num = extract_eft_number(text)  # This function needs to be defined according to your needs\n",
    "                        tot_draft_amt = extract_total_draft_amount(text)  # This function needs to be defined according to your needs\n",
    "\n",
    "                        # Rename the file\n",
    "                        new_file_name = f'{eft_num}-{today}-{tot_draft_amt}.pdf'\n",
    "                        destination_file = os.path.join(target_dir, new_file_name)\n",
    "\n",
    "                        # Move the file\n",
    "                        print(f'Moving {source_file} to {destination_file}')\n",
    "                        shutil.move(source_file, destination_file)\n",
    "                        break\n",
    "\n",
    "def extract_eft_number(text):\n",
    "    # This function needs to be defined to extract the EFT number from the text\n",
    "    # For example, if the EFT number is always at the start of the line and followed by a space:\n",
    "    return text.split(' ')[0]\n",
    "\n",
    "def extract_total_draft_amount(text):\n",
    "    # This function needs to be defined to extract the Total Draft Amount from the text\n",
    "    # For example, if the Total Draft Amount is always on a line that starts with \"Total Draft Amount: \":\n",
    "    for line in text.split('\\n'):\n",
    "        if line.startswith('Total Draft Amount: '):\n",
    "            return line.split(': ')[1]\n"
   ],
   "metadata": {
    "collapsed": false
   }
  },
  {
   "cell_type": "markdown",
   "source": [],
   "metadata": {
    "collapsed": false
   }
  },
  {
   "cell_type": "code",
   "execution_count": 19,
   "outputs": [
    {
     "name": "stdout",
     "output_type": "stream",
     "text": [
      "CVR SUPPLY & TRADING, LLC\n",
      "CRR1  0296  EFT-1575  06-16-23  START MSG\n",
      "                           CVR Supply & Trading, LLC\n",
      "                               Tel: 281-207-3512                 FEI: 88-1987264\n",
      "                               Fax: 281-207-3421\n",
      "                             Billing@CVREnergy.com\n",
      "                          2277 Plaza Drive, Suite 500\n",
      "                              Sugar Land TX 77479\n",
      "                                EFT DRAFT NOTICE\n",
      "                                ================\n",
      "     To: McCraw Oil Company                             Draft Due Date: 06/20/23\n",
      "         ATTN: Accounts Payable                            Notice Date: 06/16/23\n",
      "         PO Box 220\n",
      "         Bonham TX 75418\n",
      "    Fax:\n",
      " Invoice    Invoice   Amount\n",
      "  Number     Date      Due\n",
      "---------- -------- ----------\n",
      "   4265503 06/12/23   23952.13\n",
      "                    ----------\n",
      "Total Draft           23952.13\n",
      "                   ===========\n",
      "CRR1  0296  EFT-1575  06-16-23  END MSG\n",
      "\n"
     ]
    }
   ],
   "source": [
    "file_name = 'messages'  # downloaded file is defaulted to filename `messages.pdf`\n",
    "dl_dir = r'/Users/ekim/Downloads'\n",
    "\n",
    "\n",
    "def rename_and_move_eft(file_name, source_dir):\n",
    "    for file in os.listdir(source_dir):\n",
    "        if file.endswith('.pdf') and file_name in file:\n",
    "            source_file = os.path.join(source_dir, file)\n",
    "            # print(f'source_file: {source_file}') # source_file: /Users/ekim/Downloads/messages.pdf\n",
    "\n",
    "            # Read the PDF file\n",
    "            with open(source_file, 'rb') as f:\n",
    "                reader = PyPDF2.PdfReader(f)\n",
    "                # print(f'reader: {reader}')  # reader: <PyPDF2._reader.PdfReader object at 0x7fa8c8fb4160>\n",
    "\n",
    "                # Iterate through all the pages in the PDF\n",
    "                for i in range(len(reader.pages)):\n",
    "                    # print(f'i: {i}') # prints each page number 0 idx'd\n",
    "                    if i == 0:\n",
    "                        page = reader.pages[i]\n",
    "                        # print(f'page: {page}')\n",
    "                    text = page.extract_text()\n",
    "                    # print(f'text: {text}')\n",
    "\n",
    "\n",
    "                # Check if the page contains the specific company name\n",
    "                if 'CVR SUPPLY & TRADING, LLC' in text:\n",
    "\n",
    "                    print(text)\n",
    "\n",
    "\n",
    "rename_and_move_eft(file_name, dl_dir)\n"
   ],
   "metadata": {
    "collapsed": false,
    "ExecuteTime": {
     "end_time": "2023-06-17T01:02:30.756328Z",
     "start_time": "2023-06-17T01:02:30.594399Z"
    }
   }
  },
  {
   "cell_type": "code",
   "execution_count": null,
   "outputs": [],
   "source": [
    "file_name = 'messages'  # downloaded file is defaulted to filename `messages.pdf`\n",
    "dl_dir = r'/Users/ekim/Downloads'\n",
    "target_company = 'CVR SUPPLY & TRADING, LLC'\n",
    "\n",
    "\n",
    "def extract_words_from_pdf(file_path, target_company):\n",
    "    \"\"\"Read a PDF and yield its words\"\"\"\n",
    "    with open(file_path, 'rb') as f:\n",
    "        reader = PyPDF2.PdfReader(f)\n",
    "\n",
    "        for page in reader.pages:\n",
    "            text = page.extract_text()\n",
    "            if target_company in text:\n",
    "                for line in text.splitlines():\n",
    "                    for word in line.split():\n",
    "                        yield word\n",
    "\n",
    "\n",
    "def find_word_in_pdf(file_path, target_word, target_company):\n",
    "    \"\"\"Find a target word in a PDF that contains the target company\"\"\"\n",
    "    for word in extract_words_from_pdf(file_path, target_company):\n",
    "        if word == target_word:\n",
    "            return True\n",
    "    return False\n",
    "\n",
    "\n",
    "def rename_and_move_eft(file_name, source_dir, target_word, target_company):\n",
    "    \"\"\"Find a target word in PDF files that contain the target company, and do something\"\"\"\n",
    "    for file in os.listdir(source_dir):\n",
    "        if file.endswith('.pdf') and file_name in file:\n",
    "            source_file = os.path.join(source_dir, file)\n",
    "\n",
    "            if find_word_in_pdf(source_file, target_word, target_company):\n",
    "                print(f'Found word {target_word} in file {source_file}')\n",
    "                # do something with the file\n",
    "                # ...\n",
    "\n",
    "rename_and_move_eft(file_name, dl_dir, 'YourWordOfInterest', target_company)\n",
    "\n"
   ],
   "metadata": {
    "collapsed": false
   }
  },
  {
   "cell_type": "code",
   "execution_count": 3,
   "outputs": [
    {
     "name": "stdout",
     "output_type": "stream",
     "text": [
      "Moving /Users/ekim/Downloads/messages (1).pdf to /Users/ekim/workspace/txb/mock/K-Drive/DTN Reports/Fuel Drafts/CVR Supply & Training 12351/EFT-1562-06-17-23-46813.50.pdf\n",
      "Moving /Users/ekim/Downloads/messages.pdf to /Users/ekim/workspace/txb/mock/K-Drive/DTN Reports/Fuel Drafts/CVR Supply & Training 12351/EFT-1562-06-17-23-46813.50.pdf\n"
     ]
    }
   ],
   "source": [
    "import os\n",
    "import re\n",
    "import datetime\n",
    "import shutil\n",
    "from PyPDF2 import PdfReader\n",
    "\n",
    "\n",
    "def extract_content_from_pdf_cvr_supply(file_path, target_company):\n",
    "    \"\"\"Read a PDF and return its content if it contains the target company\"\"\"\n",
    "    with open(file_path, 'rb') as f:\n",
    "        reader = PdfReader(f)\n",
    "        for page in reader.pages:\n",
    "            text = page.extract_text()\n",
    "            if target_company in text:\n",
    "                return text\n",
    "    return None\n",
    "\n",
    "\n",
    "def extract_info_cvr_supply(text):\n",
    "    \"\"\"Extract the specific information for CVR Supply\"\"\"\n",
    "    lines = text.splitlines()\n",
    "    eft_num_line = lines[1]\n",
    "    eft_num = eft_num_line.split()[2]\n",
    "    # date = eft_num_line.split()[3]\n",
    "    today = datetime.date.today().strftime('%m-%d-%y')\n",
    "\n",
    "\n",
    "    total_draft_line = [line for line in lines if 'Total Draft' in line][0]\n",
    "    total_draft = re.findall(r'(\\d+\\.\\d+)', total_draft_line)[0]\n",
    "\n",
    "    return eft_num, today, total_draft\n",
    "\n",
    "\n",
    "def rename_and_move_eft_cvr_supply(file_name, source_dir, target_dir, target_company):\n",
    "    \"\"\"Find specific information in PDF files that contain the target company, rename and move the file\"\"\"\n",
    "    for file in os.listdir(source_dir):\n",
    "        if file.endswith('.pdf') and file_name in file:\n",
    "            source_file = os.path.join(source_dir, file)\n",
    "\n",
    "            text = extract_content_from_pdf_cvr_supply(source_file, target_company)\n",
    "            if text:\n",
    "                eft_num, today, total_draft = extract_info_cvr_supply(text)\n",
    "                new_file_name = f'{eft_num}-{today}-{total_draft}.pdf'\n",
    "                destination_file = os.path.join(target_dir, new_file_name)\n",
    "\n",
    "                print(f'Moving {source_file} to {destination_file}')\n",
    "                shutil.move(source_file, destination_file)\n",
    "\n",
    "\n",
    "file_name = 'messages'  # downloaded file is defaulted to filename `messages.pdf`\n",
    "dl_dir = r'/Users/ekim/Downloads'\n",
    "target_company = 'CVR SUPPLY & TRADING, LLC'\n",
    "target_dir = r'/Users/ekim/workspace/txb/mock/K-Drive/DTN Reports/Fuel Drafts/CVR Supply & Training 12351'\n",
    "\n",
    "rename_and_move_eft_cvr_supply(file_name, dl_dir, target_dir, target_company)\n",
    "\n"
   ],
   "metadata": {
    "collapsed": false,
    "ExecuteTime": {
     "end_time": "2023-06-17T11:04:01.405515Z",
     "start_time": "2023-06-17T11:04:01.347557Z"
    }
   }
  },
  {
   "cell_type": "code",
   "execution_count": null,
   "outputs": [],
   "source": [],
   "metadata": {
    "collapsed": false
   }
  }
 ],
 "metadata": {
  "kernelspec": {
   "display_name": "Python 3",
   "language": "python",
   "name": "python3"
  },
  "language_info": {
   "codemirror_mode": {
    "name": "ipython",
    "version": 2
   },
   "file_extension": ".py",
   "mimetype": "text/x-python",
   "name": "python",
   "nbconvert_exporter": "python",
   "pygments_lexer": "ipython2",
   "version": "2.7.6"
  }
 },
 "nbformat": 4,
 "nbformat_minor": 0
}
