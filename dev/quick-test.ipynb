{
 "cells": [
  {
   "cell_type": "code",
   "execution_count": 1,
   "outputs": [
    {
     "name": "stdout",
     "output_type": "stream",
     "text": [
      "/Users/ekim\n"
     ]
    }
   ],
   "source": [
    "import os\n",
    "home_dir = os.path.expanduser('~')\n",
    "# print(home_dir)\n",
    "dl_dir = r'/Users/ekim/Downloads'\n",
    "dest_dir = r'/Users/ekim/workspace/txb/mock/K-Drive/DTN Reports/Fuel Invoices/5-May'\n"
   ],
   "metadata": {
    "collapsed": false,
    "ExecuteTime": {
     "end_time": "2023-06-15T19:26:21.014934Z",
     "start_time": "2023-06-15T19:26:21.008934Z"
    }
   }
  },
  {
   "cell_type": "code",
   "execution_count": 3,
   "outputs": [],
   "source": [
    "import os\n",
    "import shutil\n",
    "import datetime\n",
    "\n",
    "def rename_and_move_pdf(file_name, source_dir, target_dir):\n",
    "    # Get today's date and format it as MM-DD-YY\n",
    "    today = datetime.date.today().strftime('%m-%d-%y')\n",
    "\n",
    "    # Find the downloaded PDF\n",
    "    for file in os.listdir(source_dir):\n",
    "        if file.endswith('.pdf') and file_name in file:  # Adjust this as needed to match your file\n",
    "            source_file = os.path.join(source_dir, file)\n",
    "            # Rename file\n",
    "            destination_file = os.path.join(target_dir, f'{today}.pdf')\n",
    "            # Move the file\n",
    "            shutil.move(source_file, destination_file)\n",
    "            break  # If you're only expecting one such file, you can break the loop after the first one found\n",
    "\n",
    "    # Error handling code would go here\n"
   ],
   "metadata": {
    "collapsed": false,
    "ExecuteTime": {
     "end_time": "2023-06-15T19:52:20.797882Z",
     "start_time": "2023-06-15T19:52:20.794351Z"
    }
   }
  },
  {
   "cell_type": "code",
   "execution_count": 4,
   "outputs": [],
   "source": [
    "# download_dir = r'C:/Users/cgonzales/Downloads'\n",
    "# destination_dir = r'K:/DTN Reports/Fuel Invoices/5-May'  # This would depend on how your drive is mounted\n",
    "\n",
    "file_name = 'messages' # downloaded file is defaulted to filename `messages.pdf`\n",
    "dl_dir = r'/Users/ekim/Downloads'\n",
    "dest_dir = r'/Users/ekim/workspace/txb/mock/K-Drive/DTN Reports/Fuel Invoices/5-May'\n",
    "\n",
    "rename_and_move_pdf('messages', dl_dir, dest_dir)"
   ],
   "metadata": {
    "collapsed": false,
    "ExecuteTime": {
     "end_time": "2023-06-15T19:57:59.847189Z",
     "start_time": "2023-06-15T19:57:57.578344Z"
    }
   }
  },
  {
   "cell_type": "code",
   "execution_count": null,
   "outputs": [],
   "source": [
    "# TEST - pdf_handler helper function for EFT / Draft Notices"
   ],
   "metadata": {
    "collapsed": false
   }
  },
  {
   "cell_type": "code",
   "execution_count": 2,
   "outputs": [],
   "source": [
    "import os\n",
    "import shutil\n",
    "import datetime\n",
    "import PyPDF2"
   ],
   "metadata": {
    "collapsed": false,
    "ExecuteTime": {
     "end_time": "2023-06-17T00:28:38.391208Z",
     "start_time": "2023-06-17T00:28:38.356719Z"
    }
   }
  },
  {
   "cell_type": "code",
   "execution_count": null,
   "outputs": [],
   "source": [
    "def rename_and_move_eft(file_name, source_dir, target_dir):\n",
    "    today = datetime.date.today().strftime('%m-%d-%y')\n",
    "    for file in os.listdir(source_dir):\n",
    "        if file.endswith('.pdf') and file_name in file:\n",
    "            source_file = os.path.join(source_dir, file)\n",
    "\n",
    "            # Read the PDF file\n",
    "            with open(source_file, 'rb') as f:\n",
    "                reader = PyPDF2.PdfFileReader(f)\n",
    "\n",
    "                # Iterate through all the pages in the PDF\n",
    "                for i in range(reader.getNumPages()):\n",
    "                    page = reader.getPage(i)\n",
    "                    text = page.extract_text()\n",
    "\n",
    "                    # Check if the page contains the specific company name\n",
    "                    if 'CVR SUPPLY & TRADING, LLC' in text:\n",
    "                        # Extract the EFT number and the Total Draft Amount\n",
    "                        eft_num = extract_eft_number(text)  # This function needs to be defined according to your needs\n",
    "                        tot_draft_amt = extract_total_draft_amount(text)  # This function needs to be defined according to your needs\n",
    "\n",
    "                        # Rename the file\n",
    "                        new_file_name = f'{eft_num}-{today}-{tot_draft_amt}.pdf'\n",
    "                        destination_file = os.path.join(target_dir, new_file_name)\n",
    "\n",
    "                        # Move the file\n",
    "                        print(f'Moving {source_file} to {destination_file}')\n",
    "                        shutil.move(source_file, destination_file)\n",
    "                        break\n",
    "\n",
    "def extract_eft_number(text):\n",
    "    # This function needs to be defined to extract the EFT number from the text\n",
    "    # For example, if the EFT number is always at the start of the line and followed by a space:\n",
    "    return text.split(' ')[0]\n",
    "\n",
    "def extract_total_draft_amount(text):\n",
    "    # This function needs to be defined to extract the Total Draft Amount from the text\n",
    "    # For example, if the Total Draft Amount is always on a line that starts with \"Total Draft Amount: \":\n",
    "    for line in text.split('\\n'):\n",
    "        if line.startswith('Total Draft Amount: '):\n",
    "            return line.split(': ')[1]\n"
   ],
   "metadata": {
    "collapsed": false
   }
  },
  {
   "cell_type": "markdown",
   "source": [],
   "metadata": {
    "collapsed": false
   }
  },
  {
   "cell_type": "code",
   "execution_count": 10,
   "outputs": [
    {
     "name": "stdout",
     "output_type": "stream",
     "text": [
      "page: {'/Type': '/Page', '/MediaBox': [0, 0, 612, 792], '/Parent': IndirectObject(2, 0, 140362085542080), '/Contents': IndirectObject(85, 0, 140362085542080), '/Resources': IndirectObject(86, 0, 140362085542080)}\n"
     ]
    }
   ],
   "source": [
    "file_name = 'messages'  # downloaded file is defaulted to filename `messages.pdf`\n",
    "dl_dir = r'/Users/ekim/Downloads'\n",
    "\n",
    "\n",
    "def rename_and_move_eft(file_name, source_dir):\n",
    "    for file in os.listdir(source_dir):\n",
    "        if file.endswith('.pdf') and file_name in file:\n",
    "            source_file = os.path.join(source_dir, file)\n",
    "            # print(f'source_file: {source_file}') # source_file: /Users/ekim/Downloads/messages.pdf\n",
    "\n",
    "            # Read the PDF file\n",
    "            with open(source_file, 'rb') as f:\n",
    "                reader = PyPDF2.PdfReader(f)\n",
    "                # print(f'reader: {reader}')  # reader: <PyPDF2._reader.PdfReader object at 0x7fa8c8fb4160>\n",
    "\n",
    "                # Iterate through all the pages in the PDF\n",
    "                for i in range(len(reader.pages)):\n",
    "                    # print(f'i: {i}') # prints each page number 0 idx'd\n",
    "                    if i == 0:\n",
    "                        page = reader.pages[i]\n",
    "                        print(f'page: {page}')\n",
    "                    # text = page.extract_text()\n",
    "                    # print(f'text: {text}')\n",
    "\n",
    "\n",
    "                    # Check if the page contains the specific company name\n",
    "                    # if 'CVR SUPPLY & TRADING, LLC' in text:\n",
    "                    #\n",
    "                    #     print(f'text in CVR only: {text}')\n",
    "\n",
    "\n",
    "rename_and_move_eft(file_name, dl_dir)\n"
   ],
   "metadata": {
    "collapsed": false,
    "ExecuteTime": {
     "end_time": "2023-06-17T00:51:21.994146Z",
     "start_time": "2023-06-17T00:51:21.938717Z"
    }
   }
  },
  {
   "cell_type": "code",
   "execution_count": null,
   "outputs": [],
   "source": [],
   "metadata": {
    "collapsed": false
   }
  }
 ],
 "metadata": {
  "kernelspec": {
   "display_name": "Python 3",
   "language": "python",
   "name": "python3"
  },
  "language_info": {
   "codemirror_mode": {
    "name": "ipython",
    "version": 2
   },
   "file_extension": ".py",
   "mimetype": "text/x-python",
   "name": "python",
   "nbconvert_exporter": "python",
   "pygments_lexer": "ipython2",
   "version": "2.7.6"
  }
 },
 "nbformat": 4,
 "nbformat_minor": 0
}
