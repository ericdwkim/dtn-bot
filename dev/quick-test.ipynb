{
 "cells": [
  {
   "cell_type": "code",
   "execution_count": 1,
   "outputs": [
    {
     "name": "stdout",
     "output_type": "stream",
     "text": [
      "/Users/ekim\n"
     ]
    }
   ],
   "source": [
    "import os\n",
    "home_dir = os.path.expanduser('~')\n",
    "# print(home_dir)\n",
    "dl_dir = r'/Users/ekim/Downloads'\n",
    "dest_dir = r'/Users/ekim/workspace/txb/mock/K-Drive/DTN Reports/Fuel Invoices/5-May'\n"
   ],
   "metadata": {
    "collapsed": false,
    "ExecuteTime": {
     "end_time": "2023-06-15T19:26:21.014934Z",
     "start_time": "2023-06-15T19:26:21.008934Z"
    }
   }
  },
  {
   "cell_type": "code",
   "execution_count": 3,
   "outputs": [],
   "source": [
    "import os\n",
    "import shutil\n",
    "import datetime\n",
    "\n",
    "def rename_and_move_pdf(file_name, source_dir, target_dir):\n",
    "    # Get today's date and format it as MM-DD-YY\n",
    "    today = datetime.date.today().strftime('%m-%d-%y')\n",
    "\n",
    "    # Find the downloaded PDF\n",
    "    for file in os.listdir(source_dir):\n",
    "        if file.endswith('.pdf') and file_name in file:  # Adjust this as needed to match your file\n",
    "            source_file = os.path.join(source_dir, file)\n",
    "            # Rename file\n",
    "            destination_file = os.path.join(target_dir, f'{today}.pdf')\n",
    "            # Move the file\n",
    "            shutil.move(source_file, destination_file)\n",
    "            break  # If you're only expecting one such file, you can break the loop after the first one found\n",
    "\n",
    "    # Error handling code would go here\n"
   ],
   "metadata": {
    "collapsed": false,
    "ExecuteTime": {
     "end_time": "2023-06-15T19:52:20.797882Z",
     "start_time": "2023-06-15T19:52:20.794351Z"
    }
   }
  },
  {
   "cell_type": "code",
   "execution_count": 4,
   "outputs": [],
   "source": [
    "# download_dir = r'C:/Users/cgonzales/Downloads'\n",
    "# destination_dir = r'K:/DTN Reports/Fuel Invoices/5-May'  # This would depend on how your drive is mounted\n",
    "\n",
    "file_name = 'messages' # downloaded file is defaulted to filename `messages.pdf`\n",
    "dl_dir = r'/Users/ekim/Downloads'\n",
    "dest_dir = r'/Users/ekim/workspace/txb/mock/K-Drive/DTN Reports/Fuel Invoices/5-May'\n",
    "\n",
    "rename_and_move_pdf('messages', dl_dir, dest_dir)"
   ],
   "metadata": {
    "collapsed": false,
    "ExecuteTime": {
     "end_time": "2023-06-15T19:57:59.847189Z",
     "start_time": "2023-06-15T19:57:57.578344Z"
    }
   }
  },
  {
   "cell_type": "code",
   "execution_count": null,
   "outputs": [],
   "source": [],
   "metadata": {
    "collapsed": false
   }
  }
 ],
 "metadata": {
  "kernelspec": {
   "display_name": "Python 3",
   "language": "python",
   "name": "python3"
  },
  "language_info": {
   "codemirror_mode": {
    "name": "ipython",
    "version": 2
   },
   "file_extension": ".py",
   "mimetype": "text/x-python",
   "name": "python",
   "nbconvert_exporter": "python",
   "pygments_lexer": "ipython2",
   "version": "2.7.6"
  }
 },
 "nbformat": 4,
 "nbformat_minor": 0
}
