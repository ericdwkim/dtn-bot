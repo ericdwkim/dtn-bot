{
 "cells": [
  {
   "cell_type": "code",
   "execution_count": 1,
   "id": "initial_id",
   "metadata": {
    "collapsed": true,
    "ExecuteTime": {
     "end_time": "2023-10-14T22:46:42.391149Z",
     "start_time": "2023-10-14T22:46:42.230983Z"
    }
   },
   "outputs": [],
   "source": [
    "from src.app.drivers import BaseDriver\n",
    "from src.pages.loginpage import LoginPage\n",
    "from src.pages.basepage import BasePage\n",
    "from src.pages.dataconnectpage import DataConnectPage\n",
    "from src.utils.pdf_processor import PdfProcessor"
   ]
  },
  {
   "cell_type": "code",
   "execution_count": 2,
   "outputs": [],
   "source": [
    "bd = BaseDriver()\n",
    "lp = LoginPage(bd)\n",
    "dcp =DataConnectPage(BasePage(bd))\n",
    "\n",
    "processor = PdfProcessor()"
   ],
   "metadata": {
    "collapsed": false,
    "ExecuteTime": {
     "end_time": "2023-10-14T22:46:51.030631Z",
     "start_time": "2023-10-14T22:46:50.421855Z"
    }
   },
   "id": "c4be68322e51989b"
  },
  {
   "cell_type": "code",
   "execution_count": 3,
   "outputs": [],
   "source": [
    "bd.setup_driver()"
   ],
   "metadata": {
    "collapsed": false,
    "ExecuteTime": {
     "end_time": "2023-10-14T22:46:55.145871Z",
     "start_time": "2023-10-14T22:46:54.597227Z"
    }
   },
   "id": "adf89abee92cadec"
  },
  {
   "cell_type": "code",
   "execution_count": 9,
   "outputs": [
    {
     "data": {
      "text/plain": "True"
     },
     "execution_count": 9,
     "metadata": {},
     "output_type": "execute_result"
    }
   ],
   "source": [
    "dcp.switch_tab_set_filters_and_download_invoices()"
   ],
   "metadata": {
    "collapsed": false,
    "ExecuteTime": {
     "end_time": "2023-10-14T22:37:13.984441Z",
     "start_time": "2023-10-14T22:35:43.571146Z"
    }
   },
   "id": "8c5b9918de4d1aed"
  },
  {
   "cell_type": "code",
   "execution_count": 4,
   "outputs": [],
   "source": [
    "filepath = '/Users/ekim/downloads/messages.pdf'"
   ],
   "metadata": {
    "collapsed": false,
    "ExecuteTime": {
     "end_time": "2023-10-14T22:46:57.394307Z",
     "start_time": "2023-10-14T22:46:57.390087Z"
    }
   },
   "id": "680f86f0b2b3a9e4"
  },
  {
   "cell_type": "code",
   "execution_count": 5,
   "outputs": [
    {
     "data": {
      "text/plain": "True"
     },
     "execution_count": 5,
     "metadata": {},
     "output_type": "execute_result"
    }
   ],
   "source": [
    "processor.process_pages()"
   ],
   "metadata": {
    "collapsed": false,
    "ExecuteTime": {
     "end_time": "2023-10-14T22:47:01.872142Z",
     "start_time": "2023-10-14T22:47:01.344799Z"
    }
   },
   "id": "66c92669e2d5e629"
  },
  {
   "cell_type": "code",
   "execution_count": null,
   "outputs": [],
   "source": [],
   "metadata": {
    "collapsed": false
   },
   "id": "56cc162292f34e1d"
  }
 ],
 "metadata": {
  "kernelspec": {
   "display_name": "Python 3",
   "language": "python",
   "name": "python3"
  },
  "language_info": {
   "codemirror_mode": {
    "name": "ipython",
    "version": 2
   },
   "file_extension": ".py",
   "mimetype": "text/x-python",
   "name": "python",
   "nbconvert_exporter": "python",
   "pygments_lexer": "ipython2",
   "version": "2.7.6"
  }
 },
 "nbformat": 4,
 "nbformat_minor": 5
}
