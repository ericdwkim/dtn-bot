{
 "cells": [
  {
   "cell_type": "code",
   "execution_count": 11,
   "id": "initial_id",
   "metadata": {
    "collapsed": true,
    "ExecuteTime": {
     "end_time": "2023-10-14T21:37:45.329710Z",
     "start_time": "2023-10-14T21:37:45.326395Z"
    }
   },
   "outputs": [],
   "source": [
    "from src.app.drivers import BaseDriver\n",
    "from src.pages.loginpage import LoginPage\n",
    "from src.pages.basepage import BasePage\n",
    "from src.pages.dataconnectpage import DataConnectPage"
   ]
  },
  {
   "cell_type": "code",
   "execution_count": 13,
   "outputs": [],
   "source": [
    "bd = BaseDriver()\n",
    "lp = LoginPage(bd)\n",
    "dcp =DataConnectPage(BasePage(bd))"
   ],
   "metadata": {
    "collapsed": false,
    "ExecuteTime": {
     "end_time": "2023-10-14T21:38:13.820638Z",
     "start_time": "2023-10-14T21:38:13.287381Z"
    }
   },
   "id": "c4be68322e51989b"
  },
  {
   "cell_type": "code",
   "execution_count": 9,
   "outputs": [],
   "source": [
    "bd.setup_driver()"
   ],
   "metadata": {
    "collapsed": false,
    "ExecuteTime": {
     "end_time": "2023-10-14T21:36:04.312825Z",
     "start_time": "2023-10-14T21:36:03.770173Z"
    }
   },
   "id": "adf89abee92cadec"
  },
  {
   "cell_type": "code",
   "execution_count": 14,
   "outputs": [
    {
     "data": {
      "text/plain": "True"
     },
     "execution_count": 14,
     "metadata": {},
     "output_type": "execute_result"
    }
   ],
   "source": [
    "dcp.switch_tab_set_filters_and_download_invoices()"
   ],
   "metadata": {
    "collapsed": false,
    "ExecuteTime": {
     "end_time": "2023-10-14T21:46:44.947474Z",
     "start_time": "2023-10-14T21:45:13.796352Z"
    }
   },
   "id": "8c5b9918de4d1aed"
  },
  {
   "cell_type": "code",
   "execution_count": null,
   "outputs": [],
   "source": [],
   "metadata": {
    "collapsed": false
   },
   "id": "680f86f0b2b3a9e4"
  }
 ],
 "metadata": {
  "kernelspec": {
   "display_name": "Python 3",
   "language": "python",
   "name": "python3"
  },
  "language_info": {
   "codemirror_mode": {
    "name": "ipython",
    "version": 2
   },
   "file_extension": ".py",
   "mimetype": "text/x-python",
   "name": "python",
   "nbconvert_exporter": "python",
   "pygments_lexer": "ipython2",
   "version": "2.7.6"
  }
 },
 "nbformat": 4,
 "nbformat_minor": 5
}
