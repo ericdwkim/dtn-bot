{
 "cells": [
  {
   "cell_type": "code",
   "execution_count": 27,
   "id": "initial_id",
   "metadata": {
    "collapsed": true,
    "ExecuteTime": {
     "end_time": "2023-10-15T19:52:19.436644Z",
     "start_time": "2023-10-15T19:52:19.433498Z"
    }
   },
   "outputs": [],
   "source": [
    "from src.app.drivers import BaseDriver\n",
    "from src.pages.loginpage import LoginPage\n",
    "from src.pages.basepage import BasePage\n",
    "from src.pages.dataconnectpage import DataConnectPage\n",
    "from src.utils.pdf_processor import PdfProcessor"
   ]
  },
  {
   "cell_type": "code",
   "execution_count": 28,
   "outputs": [],
   "source": [
    "bd = BaseDriver()\n",
    "lp = LoginPage(bd)\n",
    "dcp =DataConnectPage(BasePage(bd))\n",
    "\n",
    "processor = PdfProcessor()"
   ],
   "metadata": {
    "collapsed": false,
    "ExecuteTime": {
     "end_time": "2023-10-15T19:52:20.239339Z",
     "start_time": "2023-10-15T19:52:19.689748Z"
    }
   },
   "id": "c4be68322e51989b"
  },
  {
   "cell_type": "code",
   "execution_count": 12,
   "outputs": [],
   "source": [
    "bd.setup_driver()"
   ],
   "metadata": {
    "collapsed": false,
    "ExecuteTime": {
     "end_time": "2023-10-15T19:46:54.043815Z",
     "start_time": "2023-10-15T19:46:53.516638Z"
    }
   },
   "id": "adf89abee92cadec"
  },
  {
   "cell_type": "code",
   "execution_count": 4,
   "outputs": [
    {
     "data": {
      "text/plain": "True"
     },
     "execution_count": 4,
     "metadata": {},
     "output_type": "execute_result"
    }
   ],
   "source": [
    "dcp.set_group_filter_to_credit_card()"
   ],
   "metadata": {
    "collapsed": false,
    "ExecuteTime": {
     "end_time": "2023-10-15T19:39:46.932580Z",
     "start_time": "2023-10-15T19:39:25.659399Z"
    }
   },
   "id": "8c5b9918de4d1aed"
  },
  {
   "cell_type": "code",
   "execution_count": 5,
   "outputs": [
    {
     "data": {
      "text/plain": "True"
     },
     "execution_count": 5,
     "metadata": {},
     "output_type": "execute_result"
    }
   ],
   "source": [
    "dcp.check_all_then_click_print()"
   ],
   "metadata": {
    "collapsed": false,
    "ExecuteTime": {
     "end_time": "2023-10-15T19:42:30.483774Z",
     "start_time": "2023-10-15T19:41:59.677537Z"
    }
   },
   "id": "cf0b18b6a527b966"
  },
  {
   "cell_type": "code",
   "execution_count": 19,
   "outputs": [],
   "source": [
    "filepath = '/Users/ekim/downloads/messages.pdf'"
   ],
   "metadata": {
    "collapsed": false,
    "ExecuteTime": {
     "end_time": "2023-10-15T19:48:05.364050Z",
     "start_time": "2023-10-15T19:48:05.361428Z"
    }
   },
   "id": "680f86f0b2b3a9e4"
  },
  {
   "cell_type": "code",
   "execution_count": 29,
   "outputs": [
    {
     "name": "stderr",
     "output_type": "stream",
     "text": [
      "ERROR:root:Could not find matching document type using regex pattern in current page text.\n",
      "ERROR:root:Could not find matching document type using regex pattern in current page text.\n",
      "ERROR:root:An error occurred: 'CMB'\n"
     ]
    },
    {
     "data": {
      "text/plain": "False"
     },
     "execution_count": 29,
     "metadata": {},
     "output_type": "execute_result"
    }
   ],
   "source": [
    "processor.process_pages()"
   ],
   "metadata": {
    "collapsed": false,
    "ExecuteTime": {
     "end_time": "2023-10-15T19:52:22.696Z",
     "start_time": "2023-10-15T19:52:22.329351Z"
    }
   },
   "id": "66c92669e2d5e629"
  },
  {
   "cell_type": "code",
   "execution_count": null,
   "outputs": [],
   "source": [],
   "metadata": {
    "collapsed": false
   },
   "id": "56cc162292f34e1d"
  }
 ],
 "metadata": {
  "kernelspec": {
   "display_name": "Python 3",
   "language": "python",
   "name": "python3"
  },
  "language_info": {
   "codemirror_mode": {
    "name": "ipython",
    "version": 2
   },
   "file_extension": ".py",
   "mimetype": "text/x-python",
   "name": "python",
   "nbconvert_exporter": "python",
   "pygments_lexer": "ipython2",
   "version": "2.7.6"
  }
 },
 "nbformat": 4,
 "nbformat_minor": 5
}
